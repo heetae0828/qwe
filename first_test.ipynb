{
 "cells": [
  {
   "cell_type": "code",
   "execution_count": 2,
   "id": "4602d53d-43db-415b-aea4-5cc97b50f20e",
   "metadata": {},
   "outputs": [],
   "source": [
    "test=1\n"
   ]
  },
  {
   "cell_type": "code",
   "execution_count": 3,
   "id": "5b419803-18fc-41b4-8b26-36828c8d0109",
   "metadata": {},
   "outputs": [],
   "source": [
    "test=2"
   ]
  },
  {
   "cell_type": "code",
   "execution_count": 1,
   "id": "6dd797ed-852e-4b59-b580-93080e449adc",
   "metadata": {},
   "outputs": [],
   "source": [
    "test=3"
   ]
  },
  {
   "cell_type": "code",
   "execution_count": 2,
   "id": "9d9556e1-0cb3-4d1d-9336-1e8e8077cab9",
   "metadata": {},
   "outputs": [
    {
     "name": "stdout",
     "output_type": "stream",
     "text": [
      "3\n"
     ]
    }
   ],
   "source": [
    "print(test\n",
    "     )"
   ]
  },
  {
   "cell_type": "code",
   "execution_count": 1,
   "id": "48a958a6-289d-4291-8be1-7b02d5516e31",
   "metadata": {},
   "outputs": [],
   "source": [
    "test=4"
   ]
  },
  {
   "cell_type": "code",
   "execution_count": null,
   "id": "bba83711-2140-4812-85da-95c0bce8fd74",
   "metadata": {},
   "outputs": [],
   "source": []
  }
 ],
 "metadata": {
  "kernelspec": {
   "display_name": "Python 3",
   "language": "python",
   "name": "python3"
  },
  "language_info": {
   "codemirror_mode": {
    "name": "ipython",
    "version": 3
   },
   "file_extension": ".py",
   "mimetype": "text/x-python",
   "name": "python",
   "nbconvert_exporter": "python",
   "pygments_lexer": "ipython3",
   "version": "3.8.8"
  }
 },
 "nbformat": 4,
 "nbformat_minor": 5
}
